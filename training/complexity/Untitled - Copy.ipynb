{
 "cells": [
  {
   "cell_type": "code",
   "execution_count": null,
   "id": "395c20c6",
   "metadata": {},
   "outputs": [],
   "source": [
    "pip install tensorflow keras==2.0.0 numpy pandas scikit-learn"
   ]
  },
  {
   "cell_type": "code",
   "execution_count": 20,
   "id": "b4e5acef-5a81-48f5-bcda-6a6908aa534a",
   "metadata": {},
   "outputs": [],
   "source": [
    "import tensorflow as tf\n",
    "import numpy as np\n",
    "import pandas as pd\n",
    "from sklearn.model_selection import train_test_split\n",
    "from sklearn.preprocessing import StandardScaler, LabelEncoder"
   ]
  },
  {
   "cell_type": "code",
   "execution_count": 21,
   "id": "30317e10-e256-473c-b9a9-deb1497eb021",
   "metadata": {},
   "outputs": [
    {
     "name": "stdout",
     "output_type": "stream",
     "text": [
      "[[0 1 0 2 1 'VerySimple']\n",
      " [0 1 0 3 1 'VerySimple']\n",
      " [1 1 0 2 1 'VerySimple']\n",
      " ...\n",
      " [50 20 50 23 4 'Complex']\n",
      " [50 20 50 24 4 'Complex']\n",
      " [50 20 50 25 4 'Complex']]\n"
     ]
    }
   ],
   "source": [
    "df = pd.read_csv('2.csv')\n",
    "print(df.values)"
   ]
  },
  {
   "cell_type": "code",
   "execution_count": 22,
   "id": "0becc068",
   "metadata": {},
   "outputs": [],
   "source": [
    "X = df[['field', 'service', 'validation', 'component', 'action']]\n",
    "y = df['complexity']"
   ]
  },
  {
   "cell_type": "code",
   "execution_count": 23,
   "id": "2bca5e16",
   "metadata": {},
   "outputs": [],
   "source": [
    "label_encoder = LabelEncoder()\n",
    "y_encoded = label_encoder.fit_transform(y)"
   ]
  },
  {
   "cell_type": "code",
   "execution_count": 24,
   "id": "b221c2a6",
   "metadata": {},
   "outputs": [],
   "source": [
    "X_train, X_test, y_train, y_test = train_test_split(X, y_encoded, test_size=0.2, random_state=42)"
   ]
  },
  {
   "cell_type": "code",
   "execution_count": 25,
   "id": "cc4ce77c",
   "metadata": {},
   "outputs": [],
   "source": [
    "scaler = StandardScaler()\n",
    "X_train_scaled = scaler.fit_transform(X_train)\n",
    "X_test_scaled = scaler.transform(X_test)"
   ]
  },
  {
   "cell_type": "code",
   "execution_count": 26,
   "id": "68cece36",
   "metadata": {},
   "outputs": [],
   "source": [
    "model = tf.keras.Sequential([\n",
    "    tf.keras.layers.Dense(128, activation='relu', input_shape=(X_train_scaled.shape[1],)),\n",
    "    tf.keras.layers.Dropout(0.2),\n",
    "    tf.keras.layers.Dense(64, activation='relu'),\n",
    "    tf.keras.layers.Dropout(0.2),\n",
    "    tf.keras.layers.Dense(len(label_encoder.classes_), activation='softmax') \n",
    "])"
   ]
  },
  {
   "cell_type": "code",
   "execution_count": 27,
   "id": "efd5ee7f",
   "metadata": {},
   "outputs": [],
   "source": [
    "model.compile(optimizer='adam',\n",
    "              loss='sparse_categorical_crossentropy',  # Use sparse_categorical_crossentropy for integer labels\n",
    "              metrics=['accuracy'])"
   ]
  },
  {
   "cell_type": "code",
   "execution_count": 28,
   "id": "036e95b6",
   "metadata": {},
   "outputs": [
    {
     "name": "stdout",
     "output_type": "stream",
     "text": [
      "Epoch 1/100\n",
      "256/256 [==============================] - 1s 2ms/step - loss: 0.3117 - accuracy: 0.9229 - val_loss: 0.0898 - val_accuracy: 0.9868\n",
      "Epoch 2/100\n",
      "256/256 [==============================] - 0s 1ms/step - loss: 0.0694 - accuracy: 0.9833 - val_loss: 0.0391 - val_accuracy: 0.9932\n",
      "Epoch 3/100\n",
      "256/256 [==============================] - 0s 1ms/step - loss: 0.0372 - accuracy: 0.9910 - val_loss: 0.0248 - val_accuracy: 0.9995\n",
      "Epoch 4/100\n",
      "256/256 [==============================] - 0s 1ms/step - loss: 0.0231 - accuracy: 0.9947 - val_loss: 0.0123 - val_accuracy: 0.9976\n",
      "Epoch 5/100\n",
      "256/256 [==============================] - 0s 1ms/step - loss: 0.0154 - accuracy: 0.9962 - val_loss: 0.0123 - val_accuracy: 0.9995\n",
      "Epoch 6/100\n",
      "256/256 [==============================] - 0s 1ms/step - loss: 0.0122 - accuracy: 0.9968 - val_loss: 0.0070 - val_accuracy: 0.9995\n",
      "Epoch 7/100\n",
      "256/256 [==============================] - 0s 1ms/step - loss: 0.0092 - accuracy: 0.9979 - val_loss: 0.0058 - val_accuracy: 0.9995\n",
      "Epoch 8/100\n",
      "256/256 [==============================] - 0s 1ms/step - loss: 0.0069 - accuracy: 0.9984 - val_loss: 0.0049 - val_accuracy: 0.9995\n",
      "Epoch 9/100\n",
      "256/256 [==============================] - 0s 1ms/step - loss: 0.0053 - accuracy: 0.9988 - val_loss: 0.0049 - val_accuracy: 0.9995\n",
      "Epoch 10/100\n",
      "256/256 [==============================] - 0s 1ms/step - loss: 0.0041 - accuracy: 0.9994 - val_loss: 0.0044 - val_accuracy: 0.9995\n",
      "Epoch 11/100\n",
      "256/256 [==============================] - 0s 1ms/step - loss: 0.0058 - accuracy: 0.9985 - val_loss: 0.0039 - val_accuracy: 0.9995\n",
      "Epoch 12/100\n",
      "256/256 [==============================] - 0s 1ms/step - loss: 0.0055 - accuracy: 0.9985 - val_loss: 0.0054 - val_accuracy: 0.9995\n",
      "Epoch 13/100\n",
      "256/256 [==============================] - 0s 1ms/step - loss: 0.0038 - accuracy: 0.9993 - val_loss: 0.0032 - val_accuracy: 0.9995\n",
      "Epoch 14/100\n",
      "256/256 [==============================] - 0s 1ms/step - loss: 0.0039 - accuracy: 0.9993 - val_loss: 0.0025 - val_accuracy: 0.9995\n",
      "Epoch 15/100\n",
      "256/256 [==============================] - 0s 1ms/step - loss: 0.0028 - accuracy: 0.9995 - val_loss: 0.0032 - val_accuracy: 0.9995\n",
      "Epoch 16/100\n",
      "256/256 [==============================] - 0s 1ms/step - loss: 0.0032 - accuracy: 0.9989 - val_loss: 0.0027 - val_accuracy: 0.9995\n",
      "Epoch 17/100\n",
      "256/256 [==============================] - 0s 1ms/step - loss: 0.0025 - accuracy: 0.9993 - val_loss: 0.0027 - val_accuracy: 0.9995\n",
      "Epoch 18/100\n",
      "256/256 [==============================] - 0s 1ms/step - loss: 0.0028 - accuracy: 0.9995 - val_loss: 0.0036 - val_accuracy: 0.9995\n",
      "Epoch 19/100\n",
      "256/256 [==============================] - 0s 1ms/step - loss: 0.0030 - accuracy: 0.9993 - val_loss: 0.0027 - val_accuracy: 0.9995\n",
      "Epoch 20/100\n",
      "256/256 [==============================] - 0s 1ms/step - loss: 0.0018 - accuracy: 0.9995 - val_loss: 0.0032 - val_accuracy: 0.9995\n",
      "Epoch 21/100\n",
      "256/256 [==============================] - 0s 1ms/step - loss: 0.0024 - accuracy: 0.9995 - val_loss: 0.0106 - val_accuracy: 0.9971\n",
      "Epoch 22/100\n",
      "256/256 [==============================] - 0s 1ms/step - loss: 0.0021 - accuracy: 0.9995 - val_loss: 0.0024 - val_accuracy: 0.9995\n",
      "Epoch 23/100\n",
      "256/256 [==============================] - 0s 1ms/step - loss: 0.0030 - accuracy: 0.9991 - val_loss: 0.0020 - val_accuracy: 0.9995\n",
      "Epoch 24/100\n",
      "256/256 [==============================] - 0s 1ms/step - loss: 0.0020 - accuracy: 0.9996 - val_loss: 0.0019 - val_accuracy: 0.9995\n",
      "Epoch 25/100\n",
      "256/256 [==============================] - 0s 1ms/step - loss: 0.0019 - accuracy: 0.9998 - val_loss: 0.0022 - val_accuracy: 0.9995\n",
      "Epoch 26/100\n",
      "256/256 [==============================] - 0s 1ms/step - loss: 0.0014 - accuracy: 0.9999 - val_loss: 0.0021 - val_accuracy: 0.9995\n",
      "Epoch 27/100\n",
      "256/256 [==============================] - 0s 1ms/step - loss: 0.0011 - accuracy: 0.9999 - val_loss: 0.0025 - val_accuracy: 0.9995\n",
      "Epoch 28/100\n",
      "256/256 [==============================] - 0s 1ms/step - loss: 0.0020 - accuracy: 0.9994 - val_loss: 0.0086 - val_accuracy: 0.9990\n",
      "Epoch 29/100\n",
      "256/256 [==============================] - 0s 1ms/step - loss: 0.0025 - accuracy: 0.9993 - val_loss: 0.0024 - val_accuracy: 0.9995\n",
      "Epoch 30/100\n",
      "256/256 [==============================] - 0s 1ms/step - loss: 0.0014 - accuracy: 0.9998 - val_loss: 0.0024 - val_accuracy: 0.9995\n",
      "Epoch 31/100\n",
      "256/256 [==============================] - 0s 1ms/step - loss: 0.0028 - accuracy: 0.9990 - val_loss: 0.0023 - val_accuracy: 0.9995\n",
      "Epoch 32/100\n",
      "256/256 [==============================] - 0s 1ms/step - loss: 0.0017 - accuracy: 0.9994 - val_loss: 0.0031 - val_accuracy: 0.9990\n",
      "Epoch 33/100\n",
      "256/256 [==============================] - 0s 1ms/step - loss: 0.0024 - accuracy: 0.9993 - val_loss: 0.0016 - val_accuracy: 0.9995\n",
      "Epoch 34/100\n",
      "256/256 [==============================] - 0s 1ms/step - loss: 0.0016 - accuracy: 0.9996 - val_loss: 0.0024 - val_accuracy: 0.9995\n",
      "Epoch 35/100\n",
      "256/256 [==============================] - 0s 1ms/step - loss: 8.8749e-04 - accuracy: 0.9998 - val_loss: 0.0024 - val_accuracy: 0.9995\n",
      "Epoch 36/100\n",
      "256/256 [==============================] - 0s 1ms/step - loss: 0.0023 - accuracy: 0.9991 - val_loss: 0.0024 - val_accuracy: 0.9995\n",
      "Epoch 37/100\n",
      "256/256 [==============================] - 0s 1ms/step - loss: 0.0018 - accuracy: 0.9994 - val_loss: 0.0019 - val_accuracy: 0.9995\n",
      "Epoch 38/100\n",
      "256/256 [==============================] - 0s 1ms/step - loss: 0.0016 - accuracy: 0.9995 - val_loss: 0.0028 - val_accuracy: 0.9995\n",
      "Epoch 39/100\n",
      "256/256 [==============================] - 0s 1ms/step - loss: 0.0016 - accuracy: 0.9996 - val_loss: 0.0013 - val_accuracy: 0.9995\n",
      "Epoch 40/100\n",
      "256/256 [==============================] - 0s 1ms/step - loss: 0.0019 - accuracy: 0.9995 - val_loss: 0.0019 - val_accuracy: 0.9995\n",
      "Epoch 41/100\n",
      "256/256 [==============================] - 0s 1ms/step - loss: 0.0028 - accuracy: 0.9995 - val_loss: 0.0015 - val_accuracy: 0.9995\n",
      "Epoch 42/100\n",
      "256/256 [==============================] - 0s 1ms/step - loss: 0.0012 - accuracy: 0.9998 - val_loss: 0.0018 - val_accuracy: 0.9995\n",
      "Epoch 43/100\n",
      "256/256 [==============================] - 0s 1ms/step - loss: 0.0024 - accuracy: 0.9994 - val_loss: 0.0013 - val_accuracy: 0.9995\n",
      "Epoch 44/100\n",
      "256/256 [==============================] - 0s 1ms/step - loss: 0.0018 - accuracy: 0.9991 - val_loss: 0.0015 - val_accuracy: 0.9995\n",
      "Epoch 45/100\n",
      "256/256 [==============================] - 0s 1ms/step - loss: 0.0039 - accuracy: 0.9989 - val_loss: 0.0030 - val_accuracy: 0.9990\n",
      "Epoch 46/100\n",
      "256/256 [==============================] - 0s 1ms/step - loss: 0.0013 - accuracy: 0.9998 - val_loss: 0.0017 - val_accuracy: 0.9995\n",
      "Epoch 47/100\n",
      "256/256 [==============================] - 0s 1ms/step - loss: 9.5316e-04 - accuracy: 0.9998 - val_loss: 0.0011 - val_accuracy: 0.9995\n",
      "Epoch 48/100\n",
      "256/256 [==============================] - 0s 1ms/step - loss: 0.0016 - accuracy: 0.9995 - val_loss: 0.0018 - val_accuracy: 0.9995\n",
      "Epoch 49/100\n",
      "256/256 [==============================] - 0s 1ms/step - loss: 0.0021 - accuracy: 0.9989 - val_loss: 0.0019 - val_accuracy: 0.9995\n",
      "Epoch 50/100\n",
      "256/256 [==============================] - 0s 1ms/step - loss: 0.0020 - accuracy: 0.9991 - val_loss: 0.0014 - val_accuracy: 0.9995\n",
      "Epoch 51/100\n",
      "256/256 [==============================] - 0s 1ms/step - loss: 0.0015 - accuracy: 0.9996 - val_loss: 0.0011 - val_accuracy: 0.9995\n",
      "Epoch 52/100\n",
      "256/256 [==============================] - 0s 1ms/step - loss: 0.0011 - accuracy: 0.9998 - val_loss: 0.0018 - val_accuracy: 0.9995\n",
      "Epoch 53/100\n",
      "256/256 [==============================] - 0s 1ms/step - loss: 7.4904e-04 - accuracy: 0.9998 - val_loss: 0.0016 - val_accuracy: 0.9995\n",
      "Epoch 54/100\n",
      "256/256 [==============================] - 0s 1ms/step - loss: 7.9569e-04 - accuracy: 0.9999 - val_loss: 0.0018 - val_accuracy: 0.9995\n",
      "Epoch 55/100\n",
      "256/256 [==============================] - 0s 1ms/step - loss: 0.0022 - accuracy: 0.9995 - val_loss: 0.0014 - val_accuracy: 0.9995\n",
      "Epoch 56/100\n",
      "256/256 [==============================] - 0s 1ms/step - loss: 0.0036 - accuracy: 0.9993 - val_loss: 9.0333e-04 - val_accuracy: 0.9995\n",
      "Epoch 57/100\n",
      "256/256 [==============================] - 0s 1ms/step - loss: 0.0012 - accuracy: 0.9994 - val_loss: 0.0016 - val_accuracy: 0.9995\n"
     ]
    },
    {
     "name": "stdout",
     "output_type": "stream",
     "text": [
      "Epoch 58/100\n",
      "256/256 [==============================] - 0s 1ms/step - loss: 0.0019 - accuracy: 0.9995 - val_loss: 0.0016 - val_accuracy: 0.9995\n",
      "Epoch 59/100\n",
      "256/256 [==============================] - 0s 1ms/step - loss: 5.1915e-04 - accuracy: 0.9999 - val_loss: 0.0012 - val_accuracy: 0.9995\n",
      "Epoch 60/100\n",
      "256/256 [==============================] - 0s 1ms/step - loss: 7.1116e-04 - accuracy: 0.9998 - val_loss: 8.4886e-04 - val_accuracy: 0.9995\n",
      "Epoch 61/100\n",
      "256/256 [==============================] - 0s 1ms/step - loss: 6.3707e-04 - accuracy: 0.9999 - val_loss: 0.0041 - val_accuracy: 0.9985\n",
      "Epoch 62/100\n",
      "256/256 [==============================] - 0s 1ms/step - loss: 0.0017 - accuracy: 0.9998 - val_loss: 9.3938e-04 - val_accuracy: 0.9995\n",
      "Epoch 63/100\n",
      "256/256 [==============================] - 0s 1ms/step - loss: 0.0025 - accuracy: 0.9990 - val_loss: 0.0024 - val_accuracy: 0.9995\n",
      "Epoch 64/100\n",
      "256/256 [==============================] - 0s 1ms/step - loss: 0.0013 - accuracy: 0.9995 - val_loss: 0.0014 - val_accuracy: 0.9995\n",
      "Epoch 65/100\n",
      "256/256 [==============================] - 0s 1ms/step - loss: 0.0015 - accuracy: 0.9996 - val_loss: 0.0020 - val_accuracy: 0.9995\n",
      "Epoch 66/100\n",
      "256/256 [==============================] - 0s 1ms/step - loss: 9.1630e-04 - accuracy: 0.9999 - val_loss: 0.0014 - val_accuracy: 0.9995\n",
      "Epoch 67/100\n",
      "256/256 [==============================] - 0s 1ms/step - loss: 0.0018 - accuracy: 0.9994 - val_loss: 0.0031 - val_accuracy: 0.9985\n",
      "Epoch 68/100\n",
      "256/256 [==============================] - 0s 1ms/step - loss: 0.0030 - accuracy: 0.9989 - val_loss: 8.7657e-04 - val_accuracy: 0.9995\n",
      "Epoch 69/100\n",
      "256/256 [==============================] - 0s 1ms/step - loss: 0.0010 - accuracy: 0.9999 - val_loss: 8.0706e-04 - val_accuracy: 0.9995\n",
      "Epoch 70/100\n",
      "256/256 [==============================] - 0s 1ms/step - loss: 9.2111e-04 - accuracy: 0.9998 - val_loss: 0.0014 - val_accuracy: 0.9990\n",
      "Epoch 71/100\n",
      "256/256 [==============================] - 0s 1ms/step - loss: 0.0026 - accuracy: 0.9993 - val_loss: 8.9494e-04 - val_accuracy: 0.9995\n",
      "Epoch 72/100\n",
      "256/256 [==============================] - 0s 1ms/step - loss: 7.4628e-04 - accuracy: 0.9999 - val_loss: 0.0011 - val_accuracy: 0.9995\n",
      "Epoch 73/100\n",
      "256/256 [==============================] - 0s 1ms/step - loss: 4.0973e-04 - accuracy: 0.9999 - val_loss: 8.5967e-04 - val_accuracy: 0.9995\n",
      "Epoch 74/100\n",
      "256/256 [==============================] - 0s 1ms/step - loss: 9.3313e-04 - accuracy: 0.9998 - val_loss: 8.9232e-04 - val_accuracy: 0.9995\n",
      "Epoch 75/100\n",
      "256/256 [==============================] - 0s 1ms/step - loss: 0.0014 - accuracy: 0.9994 - val_loss: 0.0013 - val_accuracy: 0.9995\n",
      "Epoch 76/100\n",
      "256/256 [==============================] - 0s 1ms/step - loss: 0.0015 - accuracy: 0.9996 - val_loss: 7.6737e-04 - val_accuracy: 0.9995\n",
      "Epoch 77/100\n",
      "256/256 [==============================] - 0s 1ms/step - loss: 0.0023 - accuracy: 0.9991 - val_loss: 0.0037 - val_accuracy: 0.9985\n",
      "Epoch 78/100\n",
      "256/256 [==============================] - 0s 1ms/step - loss: 0.0013 - accuracy: 0.9996 - val_loss: 8.4026e-04 - val_accuracy: 0.9995\n",
      "Epoch 79/100\n",
      "256/256 [==============================] - 0s 1ms/step - loss: 0.0022 - accuracy: 0.9994 - val_loss: 9.6189e-04 - val_accuracy: 0.9995\n",
      "Epoch 80/100\n",
      "256/256 [==============================] - 0s 1ms/step - loss: 0.0017 - accuracy: 0.9995 - val_loss: 9.3660e-04 - val_accuracy: 0.9995\n",
      "Epoch 81/100\n",
      "256/256 [==============================] - 0s 1ms/step - loss: 8.9642e-04 - accuracy: 0.9998 - val_loss: 0.0017 - val_accuracy: 0.9995\n",
      "Epoch 82/100\n",
      "256/256 [==============================] - 0s 1ms/step - loss: 0.0030 - accuracy: 0.9989 - val_loss: 0.0019 - val_accuracy: 0.9995\n",
      "Epoch 83/100\n",
      "256/256 [==============================] - 0s 1ms/step - loss: 0.0015 - accuracy: 0.9998 - val_loss: 9.6894e-04 - val_accuracy: 0.9995\n",
      "Epoch 84/100\n",
      "256/256 [==============================] - 0s 1ms/step - loss: 8.9953e-04 - accuracy: 0.9995 - val_loss: 8.5790e-04 - val_accuracy: 0.9995\n",
      "Epoch 85/100\n",
      "256/256 [==============================] - 0s 1ms/step - loss: 8.1776e-04 - accuracy: 0.9998 - val_loss: 7.2779e-04 - val_accuracy: 0.9995\n",
      "Epoch 86/100\n",
      "256/256 [==============================] - 0s 1ms/step - loss: 0.0014 - accuracy: 0.9995 - val_loss: 9.9006e-04 - val_accuracy: 0.9995\n",
      "Epoch 87/100\n",
      "256/256 [==============================] - 0s 1ms/step - loss: 0.0015 - accuracy: 0.9995 - val_loss: 8.7004e-04 - val_accuracy: 1.0000\n",
      "Epoch 88/100\n",
      "256/256 [==============================] - 0s 1ms/step - loss: 0.0042 - accuracy: 0.9989 - val_loss: 6.9081e-04 - val_accuracy: 0.9995\n",
      "Epoch 89/100\n",
      "256/256 [==============================] - 0s 1ms/step - loss: 0.0015 - accuracy: 0.9993 - val_loss: 0.0013 - val_accuracy: 0.9995\n",
      "Epoch 90/100\n",
      "256/256 [==============================] - 0s 1ms/step - loss: 0.0011 - accuracy: 0.9996 - val_loss: 0.0010 - val_accuracy: 0.9995\n",
      "Epoch 91/100\n",
      "256/256 [==============================] - 0s 1ms/step - loss: 0.0012 - accuracy: 0.9996 - val_loss: 0.0011 - val_accuracy: 0.9995\n",
      "Epoch 92/100\n",
      "256/256 [==============================] - 0s 1ms/step - loss: 0.0021 - accuracy: 0.9994 - val_loss: 0.0013 - val_accuracy: 0.9995\n",
      "Epoch 93/100\n",
      "256/256 [==============================] - 0s 1ms/step - loss: 7.3826e-04 - accuracy: 0.9999 - val_loss: 0.0037 - val_accuracy: 0.9985\n",
      "Epoch 94/100\n",
      "256/256 [==============================] - 0s 1ms/step - loss: 0.0012 - accuracy: 0.9996 - val_loss: 0.0013 - val_accuracy: 0.9995\n",
      "Epoch 95/100\n",
      "256/256 [==============================] - 0s 1ms/step - loss: 0.0010 - accuracy: 0.9996 - val_loss: 0.0118 - val_accuracy: 0.9961\n",
      "Epoch 96/100\n",
      "256/256 [==============================] - 0s 1ms/step - loss: 0.0017 - accuracy: 0.9995 - val_loss: 0.0011 - val_accuracy: 0.9995\n",
      "Epoch 97/100\n",
      "256/256 [==============================] - 0s 1ms/step - loss: 0.0015 - accuracy: 0.9995 - val_loss: 0.0010 - val_accuracy: 0.9995\n",
      "Epoch 98/100\n",
      "256/256 [==============================] - 0s 1ms/step - loss: 9.3326e-04 - accuracy: 0.9998 - val_loss: 0.0012 - val_accuracy: 0.9995\n",
      "Epoch 99/100\n",
      "256/256 [==============================] - 0s 1ms/step - loss: 0.0014 - accuracy: 0.9993 - val_loss: 0.0021 - val_accuracy: 0.9995\n",
      "Epoch 100/100\n",
      "256/256 [==============================] - 0s 1ms/step - loss: 0.0017 - accuracy: 0.9995 - val_loss: 0.0011 - val_accuracy: 0.9995\n"
     ]
    },
    {
     "data": {
      "text/plain": [
       "<tensorflow.python.keras.callbacks.History at 0x1cc21825400>"
      ]
     },
     "execution_count": 28,
     "metadata": {},
     "output_type": "execute_result"
    }
   ],
   "source": [
    "model.fit(X_train_scaled, y_train, epochs=100, validation_split=0.2, verbose=1)"
   ]
  },
  {
   "cell_type": "code",
   "execution_count": 29,
   "id": "27379729",
   "metadata": {},
   "outputs": [
    {
     "name": "stdout",
     "output_type": "stream",
     "text": [
      "Test Loss: 0.0018\n",
      "Test Accuracy: 0.9992\n"
     ]
    }
   ],
   "source": [
    "loss, accuracy = model.evaluate(X_test_scaled, y_test, verbose=0)\n",
    "print(f'Test Loss: {loss:.4f}')\n",
    "print(f'Test Accuracy: {accuracy:.4f}')"
   ]
  },
  {
   "cell_type": "code",
   "execution_count": 30,
   "id": "b465c9cc",
   "metadata": {},
   "outputs": [],
   "source": [
    "model.save('model/model.h5')"
   ]
  },
  {
   "cell_type": "code",
   "execution_count": 46,
   "id": "36d45087",
   "metadata": {},
   "outputs": [
    {
     "name": "stdout",
     "output_type": "stream",
     "text": [
      "Medium\n"
     ]
    }
   ],
   "source": [
    "input_data = np.array([[10,2,15,1,2]])\n",
    "input_scaled = scaler.transform(input_data)\n",
    "prediction = model.predict(input_scaled)\n",
    "predicted_class_index = np.argmax(prediction)\n",
    "predicted_weather = label_encoder.inverse_transform([predicted_class_index])[0]\n",
    "print(predicted_weather)"
   ]
  },
  {
   "cell_type": "code",
   "execution_count": 36,
   "id": "fc42a7a9",
   "metadata": {},
   "outputs": [
    {
     "name": "stdout",
     "output_type": "stream",
     "text": [
      "['Complex' 'Medium' 'MediumComplex' 'Simple' 'SimpleMedium' 'VerySimple']\n"
     ]
    }
   ],
   "source": [
    "print(label_encoder.classes_)"
   ]
  },
  {
   "cell_type": "code",
   "execution_count": 37,
   "id": "b76e3fc6",
   "metadata": {},
   "outputs": [
    {
     "data": {
      "text/plain": [
       "array(['SimpleMedium'], dtype=object)"
      ]
     },
     "execution_count": 37,
     "metadata": {},
     "output_type": "execute_result"
    }
   ],
   "source": [
    "label_encoder.inverse_transform([predicted_class_index])"
   ]
  },
  {
   "cell_type": "code",
   "execution_count": 38,
   "id": "0dccf74b",
   "metadata": {},
   "outputs": [
    {
     "name": "stdout",
     "output_type": "stream",
     "text": [
      "4\n"
     ]
    }
   ],
   "source": [
    "print(predicted_class_index)"
   ]
  },
  {
   "cell_type": "code",
   "execution_count": 39,
   "id": "a797a319",
   "metadata": {},
   "outputs": [
    {
     "data": {
      "text/plain": [
       "[41.77158502004498,\n",
       " 13.67957367752029,\n",
       " 41.77138945927447,\n",
       " 18.281803070304097,\n",
       " 3.6305857045076757]"
      ]
     },
     "execution_count": 39,
     "metadata": {},
     "output_type": "execute_result"
    }
   ],
   "source": [
    "scaler.mean_.tolist()"
   ]
  },
  {
   "cell_type": "code",
   "execution_count": 40,
   "id": "1a568738",
   "metadata": {},
   "outputs": [
    {
     "data": {
      "text/plain": [
       "[41.77158502004498,\n",
       " 13.67957367752029,\n",
       " 41.77138945927447,\n",
       " 18.281803070304097,\n",
       " 3.6305857045076757]"
      ]
     },
     "execution_count": 40,
     "metadata": {},
     "output_type": "execute_result"
    }
   ],
   "source": [
    "scaler.mean_.tolist()"
   ]
  },
  {
   "cell_type": "code",
   "execution_count": 41,
   "id": "9bcad297",
   "metadata": {},
   "outputs": [
    {
     "data": {
      "text/plain": [
       "[8.73690290871867,\n",
       " 4.401780164493475,\n",
       " 8.781383303933037,\n",
       " 5.176420612359074,\n",
       " 0.8032368754060814]"
      ]
     },
     "execution_count": 41,
     "metadata": {},
     "output_type": "execute_result"
    }
   ],
   "source": [
    "scaler.scale_.tolist()"
   ]
  },
  {
   "cell_type": "code",
   "execution_count": 42,
   "id": "35c767ae",
   "metadata": {},
   "outputs": [
    {
     "data": {
      "text/plain": [
       "[8.73690290871867,\n",
       " 4.401780164493475,\n",
       " 8.781383303933037,\n",
       " 5.176420612359074,\n",
       " 0.8032368754060814]"
      ]
     },
     "execution_count": 42,
     "metadata": {},
     "output_type": "execute_result"
    }
   ],
   "source": [
    "scaler.scale_.tolist()"
   ]
  },
  {
   "cell_type": "code",
   "execution_count": null,
   "id": "ac3d5df3",
   "metadata": {},
   "outputs": [],
   "source": []
  }
 ],
 "metadata": {
  "kernelspec": {
   "display_name": "Python 3",
   "language": "python",
   "name": "python3"
  },
  "language_info": {
   "codemirror_mode": {
    "name": "ipython",
    "version": 3
   },
   "file_extension": ".py",
   "mimetype": "text/x-python",
   "name": "python",
   "nbconvert_exporter": "python",
   "pygments_lexer": "ipython3",
   "version": "3.6.13"
  }
 },
 "nbformat": 4,
 "nbformat_minor": 5
}
