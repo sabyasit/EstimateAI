{
 "cells": [
  {
   "cell_type": "code",
   "execution_count": null,
   "id": "395c20c6",
   "metadata": {},
   "outputs": [],
   "source": [
    "pip install tensorflow keras==2.0.0 numpy pandas scikit-learn"
   ]
  },
  {
   "cell_type": "code",
   "execution_count": 33,
   "id": "b4e5acef-5a81-48f5-bcda-6a6908aa534a",
   "metadata": {},
   "outputs": [],
   "source": [
    "import tensorflow as tf\n",
    "import numpy as np\n",
    "import pandas as pd\n",
    "from sklearn.model_selection import train_test_split\n",
    "from sklearn.preprocessing import StandardScaler, LabelEncoder"
   ]
  },
  {
   "cell_type": "code",
   "execution_count": 34,
   "id": "30317e10-e256-473c-b9a9-deb1497eb021",
   "metadata": {},
   "outputs": [
    {
     "name": "stdout",
     "output_type": "stream",
     "text": [
      "[[1 0 1 1 1 'VerySimple']\n",
      " [1 0 1 2 1 'VerySimple']\n",
      " [2 2 2 4 1 'Simple']\n",
      " ...\n",
      " [19 39 4 17 4 'Complex']\n",
      " [19 39 4 18 4 'Complex']\n",
      " [19 39 4 19 4 'Complex']]\n"
     ]
    }
   ],
   "source": [
    "df = pd.read_csv('1.csv')\n",
    "print(df.values)"
   ]
  },
  {
   "cell_type": "code",
   "execution_count": 35,
   "id": "0becc068",
   "metadata": {},
   "outputs": [],
   "source": [
    "X = df[['service', 'validation', 'entry', 'user', 'action']]\n",
    "y = df['complexity']"
   ]
  },
  {
   "cell_type": "code",
   "execution_count": 36,
   "id": "2bca5e16",
   "metadata": {},
   "outputs": [],
   "source": [
    "label_encoder = LabelEncoder()\n",
    "y_encoded = label_encoder.fit_transform(y)"
   ]
  },
  {
   "cell_type": "code",
   "execution_count": 37,
   "id": "b221c2a6",
   "metadata": {},
   "outputs": [],
   "source": [
    "X_train, X_test, y_train, y_test = train_test_split(X, y_encoded, test_size=0.2, random_state=42)"
   ]
  },
  {
   "cell_type": "code",
   "execution_count": 38,
   "id": "cc4ce77c",
   "metadata": {},
   "outputs": [],
   "source": [
    "scaler = StandardScaler()\n",
    "X_train_scaled = scaler.fit_transform(X_train)\n",
    "X_test_scaled = scaler.transform(X_test)"
   ]
  },
  {
   "cell_type": "code",
   "execution_count": 39,
   "id": "68cece36",
   "metadata": {},
   "outputs": [],
   "source": [
    "model = tf.keras.Sequential([\n",
    "    tf.keras.layers.Dense(128, activation='relu', input_shape=(X_train_scaled.shape[1],)),\n",
    "    tf.keras.layers.Dropout(0.2),\n",
    "    tf.keras.layers.Dense(64, activation='relu'),\n",
    "    tf.keras.layers.Dropout(0.2),\n",
    "    tf.keras.layers.Dense(len(label_encoder.classes_), activation='softmax') \n",
    "])"
   ]
  },
  {
   "cell_type": "code",
   "execution_count": 40,
   "id": "efd5ee7f",
   "metadata": {},
   "outputs": [],
   "source": [
    "model.compile(optimizer='adam',\n",
    "              loss='sparse_categorical_crossentropy',  # Use sparse_categorical_crossentropy for integer labels\n",
    "              metrics=['accuracy'])"
   ]
  },
  {
   "cell_type": "code",
   "execution_count": 41,
   "id": "036e95b6",
   "metadata": {},
   "outputs": [
    {
     "name": "stdout",
     "output_type": "stream",
     "text": [
      "Epoch 1/100\n",
      "14/14 [==============================] - 0s 9ms/step - loss: 1.5530 - accuracy: 0.6572 - val_loss: 1.2195 - val_accuracy: 0.8868\n",
      "Epoch 2/100\n",
      "14/14 [==============================] - 0s 3ms/step - loss: 0.9964 - accuracy: 0.9149 - val_loss: 0.7465 - val_accuracy: 0.8868\n",
      "Epoch 3/100\n",
      "14/14 [==============================] - 0s 3ms/step - loss: 0.5946 - accuracy: 0.9173 - val_loss: 0.4732 - val_accuracy: 0.8868\n",
      "Epoch 4/100\n",
      "14/14 [==============================] - 0s 3ms/step - loss: 0.3728 - accuracy: 0.9243 - val_loss: 0.3584 - val_accuracy: 0.9057\n",
      "Epoch 5/100\n",
      "14/14 [==============================] - 0s 3ms/step - loss: 0.2732 - accuracy: 0.9362 - val_loss: 0.2967 - val_accuracy: 0.9151\n",
      "Epoch 6/100\n",
      "14/14 [==============================] - 0s 3ms/step - loss: 0.2363 - accuracy: 0.9385 - val_loss: 0.2518 - val_accuracy: 0.9340\n",
      "Epoch 7/100\n",
      "14/14 [==============================] - 0s 3ms/step - loss: 0.1960 - accuracy: 0.9504 - val_loss: 0.2243 - val_accuracy: 0.9245\n",
      "Epoch 8/100\n",
      "14/14 [==============================] - 0s 3ms/step - loss: 0.1672 - accuracy: 0.9504 - val_loss: 0.2051 - val_accuracy: 0.9340\n",
      "Epoch 9/100\n",
      "14/14 [==============================] - 0s 3ms/step - loss: 0.1642 - accuracy: 0.9480 - val_loss: 0.2058 - val_accuracy: 0.9245\n",
      "Epoch 10/100\n",
      "14/14 [==============================] - 0s 3ms/step - loss: 0.1426 - accuracy: 0.9551 - val_loss: 0.1650 - val_accuracy: 0.9434\n",
      "Epoch 11/100\n",
      "14/14 [==============================] - 0s 3ms/step - loss: 0.1271 - accuracy: 0.9645 - val_loss: 0.1551 - val_accuracy: 0.9434\n",
      "Epoch 12/100\n",
      "14/14 [==============================] - 0s 3ms/step - loss: 0.1345 - accuracy: 0.9716 - val_loss: 0.1525 - val_accuracy: 0.9717\n",
      "Epoch 13/100\n",
      "14/14 [==============================] - 0s 3ms/step - loss: 0.1088 - accuracy: 0.9669 - val_loss: 0.1349 - val_accuracy: 0.9528\n",
      "Epoch 14/100\n",
      "14/14 [==============================] - 0s 3ms/step - loss: 0.1019 - accuracy: 0.9740 - val_loss: 0.1220 - val_accuracy: 0.9623\n",
      "Epoch 15/100\n",
      "14/14 [==============================] - 0s 3ms/step - loss: 0.0978 - accuracy: 0.9693 - val_loss: 0.1156 - val_accuracy: 0.9906\n",
      "Epoch 16/100\n",
      "14/14 [==============================] - 0s 3ms/step - loss: 0.0994 - accuracy: 0.9716 - val_loss: 0.1069 - val_accuracy: 0.9906\n",
      "Epoch 17/100\n",
      "14/14 [==============================] - 0s 3ms/step - loss: 0.0930 - accuracy: 0.9645 - val_loss: 0.1079 - val_accuracy: 0.9811\n",
      "Epoch 18/100\n",
      "14/14 [==============================] - 0s 3ms/step - loss: 0.0871 - accuracy: 0.9740 - val_loss: 0.0970 - val_accuracy: 0.9906\n",
      "Epoch 19/100\n",
      "14/14 [==============================] - 0s 3ms/step - loss: 0.0850 - accuracy: 0.9740 - val_loss: 0.0918 - val_accuracy: 0.9906\n",
      "Epoch 20/100\n",
      "14/14 [==============================] - 0s 3ms/step - loss: 0.0713 - accuracy: 0.9811 - val_loss: 0.0926 - val_accuracy: 0.9906\n",
      "Epoch 21/100\n",
      "14/14 [==============================] - 0s 4ms/step - loss: 0.0690 - accuracy: 0.9811 - val_loss: 0.0795 - val_accuracy: 0.9906\n",
      "Epoch 22/100\n",
      "14/14 [==============================] - 0s 3ms/step - loss: 0.0699 - accuracy: 0.9811 - val_loss: 0.0937 - val_accuracy: 0.9811\n",
      "Epoch 23/100\n",
      "14/14 [==============================] - 0s 3ms/step - loss: 0.0648 - accuracy: 0.9787 - val_loss: 0.0824 - val_accuracy: 0.9811\n",
      "Epoch 24/100\n",
      "14/14 [==============================] - 0s 3ms/step - loss: 0.0670 - accuracy: 0.9811 - val_loss: 0.0696 - val_accuracy: 0.9906\n",
      "Epoch 25/100\n",
      "14/14 [==============================] - 0s 3ms/step - loss: 0.0677 - accuracy: 0.9787 - val_loss: 0.0684 - val_accuracy: 0.9906\n",
      "Epoch 26/100\n",
      "14/14 [==============================] - 0s 3ms/step - loss: 0.0563 - accuracy: 0.9858 - val_loss: 0.0626 - val_accuracy: 0.9906\n",
      "Epoch 27/100\n",
      "14/14 [==============================] - 0s 3ms/step - loss: 0.0644 - accuracy: 0.9811 - val_loss: 0.0624 - val_accuracy: 0.9906\n",
      "Epoch 28/100\n",
      "14/14 [==============================] - 0s 3ms/step - loss: 0.0570 - accuracy: 0.9811 - val_loss: 0.0564 - val_accuracy: 0.9906\n",
      "Epoch 29/100\n",
      "14/14 [==============================] - 0s 2ms/step - loss: 0.0519 - accuracy: 0.9835 - val_loss: 0.0583 - val_accuracy: 0.9906\n",
      "Epoch 30/100\n",
      "14/14 [==============================] - 0s 3ms/step - loss: 0.0567 - accuracy: 0.9811 - val_loss: 0.0562 - val_accuracy: 0.9906\n",
      "Epoch 31/100\n",
      "14/14 [==============================] - 0s 3ms/step - loss: 0.0560 - accuracy: 0.9835 - val_loss: 0.0665 - val_accuracy: 0.9906\n",
      "Epoch 32/100\n",
      "14/14 [==============================] - 0s 3ms/step - loss: 0.0531 - accuracy: 0.9835 - val_loss: 0.0534 - val_accuracy: 0.9906\n",
      "Epoch 33/100\n",
      "14/14 [==============================] - 0s 2ms/step - loss: 0.0431 - accuracy: 0.9858 - val_loss: 0.0499 - val_accuracy: 0.9906\n",
      "Epoch 34/100\n",
      "14/14 [==============================] - 0s 3ms/step - loss: 0.0295 - accuracy: 0.9953 - val_loss: 0.0537 - val_accuracy: 0.9906\n",
      "Epoch 35/100\n",
      "14/14 [==============================] - 0s 3ms/step - loss: 0.0448 - accuracy: 0.9858 - val_loss: 0.0478 - val_accuracy: 0.9906\n",
      "Epoch 36/100\n",
      "14/14 [==============================] - 0s 3ms/step - loss: 0.0491 - accuracy: 0.9882 - val_loss: 0.0487 - val_accuracy: 0.9906\n",
      "Epoch 37/100\n",
      "14/14 [==============================] - 0s 3ms/step - loss: 0.0431 - accuracy: 0.9882 - val_loss: 0.0448 - val_accuracy: 0.9906\n",
      "Epoch 38/100\n",
      "14/14 [==============================] - 0s 3ms/step - loss: 0.0359 - accuracy: 0.9858 - val_loss: 0.0386 - val_accuracy: 0.9906\n",
      "Epoch 39/100\n",
      "14/14 [==============================] - 0s 3ms/step - loss: 0.0329 - accuracy: 0.9858 - val_loss: 0.0415 - val_accuracy: 0.9906\n",
      "Epoch 40/100\n",
      "14/14 [==============================] - 0s 2ms/step - loss: 0.0333 - accuracy: 0.9905 - val_loss: 0.0430 - val_accuracy: 0.9906\n",
      "Epoch 41/100\n",
      "14/14 [==============================] - 0s 2ms/step - loss: 0.0346 - accuracy: 0.9953 - val_loss: 0.0409 - val_accuracy: 0.9906\n",
      "Epoch 42/100\n",
      "14/14 [==============================] - 0s 2ms/step - loss: 0.0293 - accuracy: 0.9929 - val_loss: 0.0344 - val_accuracy: 0.9906\n",
      "Epoch 43/100\n",
      "14/14 [==============================] - 0s 2ms/step - loss: 0.0303 - accuracy: 0.9882 - val_loss: 0.0328 - val_accuracy: 0.9906\n",
      "Epoch 44/100\n",
      "14/14 [==============================] - 0s 2ms/step - loss: 0.0320 - accuracy: 0.9953 - val_loss: 0.0319 - val_accuracy: 0.9906\n",
      "Epoch 45/100\n",
      "14/14 [==============================] - 0s 2ms/step - loss: 0.0348 - accuracy: 0.9905 - val_loss: 0.0329 - val_accuracy: 0.9906\n",
      "Epoch 46/100\n",
      "14/14 [==============================] - 0s 2ms/step - loss: 0.0293 - accuracy: 0.9905 - val_loss: 0.0330 - val_accuracy: 0.9906\n",
      "Epoch 47/100\n",
      "14/14 [==============================] - 0s 2ms/step - loss: 0.0319 - accuracy: 0.9929 - val_loss: 0.0297 - val_accuracy: 0.9906\n",
      "Epoch 48/100\n",
      "14/14 [==============================] - 0s 2ms/step - loss: 0.0329 - accuracy: 0.9858 - val_loss: 0.0312 - val_accuracy: 0.9906\n",
      "Epoch 49/100\n",
      "14/14 [==============================] - 0s 2ms/step - loss: 0.0297 - accuracy: 0.9953 - val_loss: 0.0366 - val_accuracy: 0.9906\n",
      "Epoch 50/100\n",
      "14/14 [==============================] - 0s 2ms/step - loss: 0.0302 - accuracy: 0.9882 - val_loss: 0.0320 - val_accuracy: 0.9906\n",
      "Epoch 51/100\n",
      "14/14 [==============================] - 0s 3ms/step - loss: 0.0258 - accuracy: 0.9905 - val_loss: 0.0303 - val_accuracy: 0.9906\n",
      "Epoch 52/100\n",
      "14/14 [==============================] - 0s 3ms/step - loss: 0.0305 - accuracy: 0.9929 - val_loss: 0.0256 - val_accuracy: 0.9906\n",
      "Epoch 53/100\n",
      "14/14 [==============================] - 0s 3ms/step - loss: 0.0344 - accuracy: 0.9882 - val_loss: 0.0278 - val_accuracy: 0.9906\n",
      "Epoch 54/100\n",
      "14/14 [==============================] - 0s 3ms/step - loss: 0.0252 - accuracy: 0.9953 - val_loss: 0.0232 - val_accuracy: 0.9906\n",
      "Epoch 55/100\n",
      "14/14 [==============================] - 0s 3ms/step - loss: 0.0194 - accuracy: 0.9976 - val_loss: 0.0215 - val_accuracy: 0.9906\n",
      "Epoch 56/100\n",
      "14/14 [==============================] - 0s 3ms/step - loss: 0.0247 - accuracy: 0.9929 - val_loss: 0.0268 - val_accuracy: 0.9906\n",
      "Epoch 57/100\n",
      "14/14 [==============================] - 0s 3ms/step - loss: 0.0249 - accuracy: 0.9929 - val_loss: 0.0251 - val_accuracy: 0.9906\n",
      "Epoch 58/100\n",
      "14/14 [==============================] - 0s 3ms/step - loss: 0.0228 - accuracy: 0.9905 - val_loss: 0.0220 - val_accuracy: 0.9906\n"
     ]
    },
    {
     "name": "stdout",
     "output_type": "stream",
     "text": [
      "Epoch 59/100\n",
      "14/14 [==============================] - 0s 3ms/step - loss: 0.0345 - accuracy: 0.9905 - val_loss: 0.0243 - val_accuracy: 0.9906\n",
      "Epoch 60/100\n",
      "14/14 [==============================] - 0s 3ms/step - loss: 0.0247 - accuracy: 0.9953 - val_loss: 0.0171 - val_accuracy: 1.0000\n",
      "Epoch 61/100\n",
      "14/14 [==============================] - 0s 3ms/step - loss: 0.0263 - accuracy: 0.9905 - val_loss: 0.0162 - val_accuracy: 1.0000\n",
      "Epoch 62/100\n",
      "14/14 [==============================] - 0s 2ms/step - loss: 0.0272 - accuracy: 0.9905 - val_loss: 0.0180 - val_accuracy: 0.9906\n",
      "Epoch 63/100\n",
      "14/14 [==============================] - 0s 2ms/step - loss: 0.0248 - accuracy: 0.9929 - val_loss: 0.0179 - val_accuracy: 0.9906\n",
      "Epoch 64/100\n",
      "14/14 [==============================] - 0s 2ms/step - loss: 0.0287 - accuracy: 0.9858 - val_loss: 0.0144 - val_accuracy: 1.0000\n",
      "Epoch 65/100\n",
      "14/14 [==============================] - 0s 2ms/step - loss: 0.0253 - accuracy: 0.9929 - val_loss: 0.0161 - val_accuracy: 1.0000\n",
      "Epoch 66/100\n",
      "14/14 [==============================] - 0s 2ms/step - loss: 0.0186 - accuracy: 0.9929 - val_loss: 0.0148 - val_accuracy: 1.0000\n",
      "Epoch 67/100\n",
      "14/14 [==============================] - 0s 3ms/step - loss: 0.0196 - accuracy: 0.9953 - val_loss: 0.0141 - val_accuracy: 1.0000\n",
      "Epoch 68/100\n",
      "14/14 [==============================] - 0s 3ms/step - loss: 0.0108 - accuracy: 1.0000 - val_loss: 0.0131 - val_accuracy: 1.0000\n",
      "Epoch 69/100\n",
      "14/14 [==============================] - 0s 2ms/step - loss: 0.0233 - accuracy: 0.9929 - val_loss: 0.0173 - val_accuracy: 0.9906\n",
      "Epoch 70/100\n",
      "14/14 [==============================] - 0s 2ms/step - loss: 0.0222 - accuracy: 0.9976 - val_loss: 0.0153 - val_accuracy: 0.9906\n",
      "Epoch 71/100\n",
      "14/14 [==============================] - 0s 2ms/step - loss: 0.0166 - accuracy: 0.9953 - val_loss: 0.0111 - val_accuracy: 1.0000\n",
      "Epoch 72/100\n",
      "14/14 [==============================] - 0s 2ms/step - loss: 0.0202 - accuracy: 0.9929 - val_loss: 0.0110 - val_accuracy: 1.0000\n",
      "Epoch 73/100\n",
      "14/14 [==============================] - 0s 3ms/step - loss: 0.0172 - accuracy: 0.9953 - val_loss: 0.0135 - val_accuracy: 1.0000\n",
      "Epoch 74/100\n",
      "14/14 [==============================] - 0s 3ms/step - loss: 0.0215 - accuracy: 0.9929 - val_loss: 0.0088 - val_accuracy: 1.0000\n",
      "Epoch 75/100\n",
      "14/14 [==============================] - 0s 2ms/step - loss: 0.0130 - accuracy: 0.9976 - val_loss: 0.0100 - val_accuracy: 1.0000\n",
      "Epoch 76/100\n",
      "14/14 [==============================] - 0s 3ms/step - loss: 0.0112 - accuracy: 0.9976 - val_loss: 0.0110 - val_accuracy: 1.0000\n",
      "Epoch 77/100\n",
      "14/14 [==============================] - 0s 2ms/step - loss: 0.0155 - accuracy: 0.9953 - val_loss: 0.0127 - val_accuracy: 1.0000\n",
      "Epoch 78/100\n",
      "14/14 [==============================] - 0s 2ms/step - loss: 0.0193 - accuracy: 0.9882 - val_loss: 0.0119 - val_accuracy: 1.0000\n",
      "Epoch 79/100\n",
      "14/14 [==============================] - 0s 2ms/step - loss: 0.0149 - accuracy: 0.9953 - val_loss: 0.0085 - val_accuracy: 1.0000\n",
      "Epoch 80/100\n",
      "14/14 [==============================] - 0s 3ms/step - loss: 0.0162 - accuracy: 0.9976 - val_loss: 0.0074 - val_accuracy: 1.0000\n",
      "Epoch 81/100\n",
      "14/14 [==============================] - 0s 3ms/step - loss: 0.0090 - accuracy: 1.0000 - val_loss: 0.0113 - val_accuracy: 1.0000\n",
      "Epoch 82/100\n",
      "14/14 [==============================] - 0s 2ms/step - loss: 0.0132 - accuracy: 1.0000 - val_loss: 0.0091 - val_accuracy: 1.0000\n",
      "Epoch 83/100\n",
      "14/14 [==============================] - 0s 2ms/step - loss: 0.0145 - accuracy: 0.9976 - val_loss: 0.0073 - val_accuracy: 1.0000\n",
      "Epoch 84/100\n",
      "14/14 [==============================] - 0s 2ms/step - loss: 0.0100 - accuracy: 1.0000 - val_loss: 0.0078 - val_accuracy: 1.0000\n",
      "Epoch 85/100\n",
      "14/14 [==============================] - 0s 3ms/step - loss: 0.0205 - accuracy: 0.9929 - val_loss: 0.0049 - val_accuracy: 1.0000\n",
      "Epoch 86/100\n",
      "14/14 [==============================] - 0s 3ms/step - loss: 0.0146 - accuracy: 0.9953 - val_loss: 0.0071 - val_accuracy: 1.0000\n",
      "Epoch 87/100\n",
      "14/14 [==============================] - 0s 2ms/step - loss: 0.0096 - accuracy: 1.0000 - val_loss: 0.0079 - val_accuracy: 1.0000\n",
      "Epoch 88/100\n",
      "14/14 [==============================] - 0s 3ms/step - loss: 0.0132 - accuracy: 0.9953 - val_loss: 0.0073 - val_accuracy: 1.0000\n",
      "Epoch 89/100\n",
      "14/14 [==============================] - 0s 2ms/step - loss: 0.0126 - accuracy: 0.9953 - val_loss: 0.0060 - val_accuracy: 1.0000\n",
      "Epoch 90/100\n",
      "14/14 [==============================] - 0s 2ms/step - loss: 0.0097 - accuracy: 1.0000 - val_loss: 0.0065 - val_accuracy: 1.0000\n",
      "Epoch 91/100\n",
      "14/14 [==============================] - 0s 2ms/step - loss: 0.0121 - accuracy: 0.9976 - val_loss: 0.0059 - val_accuracy: 1.0000\n",
      "Epoch 92/100\n",
      "14/14 [==============================] - 0s 3ms/step - loss: 0.0111 - accuracy: 0.9953 - val_loss: 0.0067 - val_accuracy: 1.0000\n",
      "Epoch 93/100\n",
      "14/14 [==============================] - 0s 3ms/step - loss: 0.0077 - accuracy: 0.9976 - val_loss: 0.0076 - val_accuracy: 1.0000\n",
      "Epoch 94/100\n",
      "14/14 [==============================] - 0s 3ms/step - loss: 0.0145 - accuracy: 0.9929 - val_loss: 0.0047 - val_accuracy: 1.0000\n",
      "Epoch 95/100\n",
      "14/14 [==============================] - 0s 3ms/step - loss: 0.0124 - accuracy: 0.9976 - val_loss: 0.0060 - val_accuracy: 1.0000\n",
      "Epoch 96/100\n",
      "14/14 [==============================] - 0s 2ms/step - loss: 0.0063 - accuracy: 1.0000 - val_loss: 0.0050 - val_accuracy: 1.0000\n",
      "Epoch 97/100\n",
      "14/14 [==============================] - 0s 2ms/step - loss: 0.0129 - accuracy: 0.9976 - val_loss: 0.0042 - val_accuracy: 1.0000\n",
      "Epoch 98/100\n",
      "14/14 [==============================] - 0s 3ms/step - loss: 0.0096 - accuracy: 0.9976 - val_loss: 0.0068 - val_accuracy: 1.0000\n",
      "Epoch 99/100\n",
      "14/14 [==============================] - 0s 3ms/step - loss: 0.0108 - accuracy: 0.9953 - val_loss: 0.0069 - val_accuracy: 1.0000\n",
      "Epoch 100/100\n",
      "14/14 [==============================] - 0s 3ms/step - loss: 0.0118 - accuracy: 0.9929 - val_loss: 0.0039 - val_accuracy: 1.0000\n"
     ]
    },
    {
     "data": {
      "text/plain": [
       "<tensorflow.python.keras.callbacks.History at 0x28536e65ef0>"
      ]
     },
     "execution_count": 41,
     "metadata": {},
     "output_type": "execute_result"
    }
   ],
   "source": [
    "model.fit(X_train_scaled, y_train, epochs=100, validation_split=0.2, verbose=1)"
   ]
  },
  {
   "cell_type": "code",
   "execution_count": 42,
   "id": "27379729",
   "metadata": {},
   "outputs": [
    {
     "name": "stdout",
     "output_type": "stream",
     "text": [
      "Test Loss: 0.0181\n",
      "Test Accuracy: 0.9925\n"
     ]
    }
   ],
   "source": [
    "loss, accuracy = model.evaluate(X_test_scaled, y_test, verbose=0)\n",
    "print(f'Test Loss: {loss:.4f}')\n",
    "print(f'Test Accuracy: {accuracy:.4f}')"
   ]
  },
  {
   "cell_type": "code",
   "execution_count": 43,
   "id": "b465c9cc",
   "metadata": {},
   "outputs": [],
   "source": [
    "model.save('model/model.h5')"
   ]
  },
  {
   "cell_type": "code",
   "execution_count": 57,
   "id": "36d45087",
   "metadata": {},
   "outputs": [
    {
     "name": "stdout",
     "output_type": "stream",
     "text": [
      "Complex\n"
     ]
    }
   ],
   "source": [
    "input_data = np.array([[20,40,5,20,5]])\n",
    "input_scaled = scaler.transform(input_data)\n",
    "prediction = model.predict(input_scaled)\n",
    "predicted_class_index = np.argmax(prediction)\n",
    "predicted_weather = label_encoder.inverse_transform([predicted_class_index])[0]\n",
    "print(predicted_weather)"
   ]
  },
  {
   "cell_type": "code",
   "execution_count": 47,
   "id": "fc42a7a9",
   "metadata": {},
   "outputs": [
    {
     "name": "stdout",
     "output_type": "stream",
     "text": [
      "['Complex' 'Medium' 'MediumComplex' 'Simple' 'SimpleMedium' 'VerySimple']\n"
     ]
    }
   ],
   "source": [
    "print(label_encoder.classes_)"
   ]
  },
  {
   "cell_type": "code",
   "execution_count": 48,
   "id": "b76e3fc6",
   "metadata": {},
   "outputs": [
    {
     "data": {
      "text/plain": [
       "array(['Simple'], dtype=object)"
      ]
     },
     "execution_count": 48,
     "metadata": {},
     "output_type": "execute_result"
    }
   ],
   "source": [
    "label_encoder.inverse_transform([predicted_class_index])"
   ]
  },
  {
   "cell_type": "code",
   "execution_count": 49,
   "id": "0dccf74b",
   "metadata": {},
   "outputs": [
    {
     "name": "stdout",
     "output_type": "stream",
     "text": [
      "3\n"
     ]
    }
   ],
   "source": [
    "print(predicted_class_index)"
   ]
  },
  {
   "cell_type": "code",
   "execution_count": 50,
   "id": "a797a319",
   "metadata": {},
   "outputs": [
    {
     "data": {
      "text/plain": [
       "[12.491493383742911,\n",
       " 33.10018903591683,\n",
       " 3.5954631379962194,\n",
       " 14.984877126654064,\n",
       " 3.55765595463138]"
      ]
     },
     "execution_count": 50,
     "metadata": {},
     "output_type": "execute_result"
    }
   ],
   "source": [
    "scaler.mean_.tolist()"
   ]
  },
  {
   "cell_type": "code",
   "execution_count": 51,
   "id": "1a568738",
   "metadata": {},
   "outputs": [
    {
     "data": {
      "text/plain": [
       "[12.491493383742911,\n",
       " 33.10018903591683,\n",
       " 3.5954631379962194,\n",
       " 14.984877126654064,\n",
       " 3.55765595463138]"
      ]
     },
     "execution_count": 51,
     "metadata": {},
     "output_type": "execute_result"
    }
   ],
   "source": [
    "scaler.mean_.tolist()"
   ]
  },
  {
   "cell_type": "code",
   "execution_count": 52,
   "id": "9bcad297",
   "metadata": {},
   "outputs": [
    {
     "data": {
      "text/plain": [
       "[4.426294460034448,\n",
       " 5.807187056945897,\n",
       " 0.6614258407267434,\n",
       " 3.6402182720378105,\n",
       " 0.7710394787895533]"
      ]
     },
     "execution_count": 52,
     "metadata": {},
     "output_type": "execute_result"
    }
   ],
   "source": [
    "scaler.scale_.tolist()"
   ]
  },
  {
   "cell_type": "code",
   "execution_count": 53,
   "id": "35c767ae",
   "metadata": {},
   "outputs": [
    {
     "data": {
      "text/plain": [
       "[4.426294460034448,\n",
       " 5.807187056945897,\n",
       " 0.6614258407267434,\n",
       " 3.6402182720378105,\n",
       " 0.7710394787895533]"
      ]
     },
     "execution_count": 53,
     "metadata": {},
     "output_type": "execute_result"
    }
   ],
   "source": [
    "scaler.scale_.tolist()"
   ]
  },
  {
   "cell_type": "code",
   "execution_count": null,
   "id": "ac3d5df3",
   "metadata": {},
   "outputs": [],
   "source": []
  }
 ],
 "metadata": {
  "kernelspec": {
   "display_name": "Python 3",
   "language": "python",
   "name": "python3"
  },
  "language_info": {
   "codemirror_mode": {
    "name": "ipython",
    "version": 3
   },
   "file_extension": ".py",
   "mimetype": "text/x-python",
   "name": "python",
   "nbconvert_exporter": "python",
   "pygments_lexer": "ipython3",
   "version": "3.6.13"
  }
 },
 "nbformat": 4,
 "nbformat_minor": 5
}
